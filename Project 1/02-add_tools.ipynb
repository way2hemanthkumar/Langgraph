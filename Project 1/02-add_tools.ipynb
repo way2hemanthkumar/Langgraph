{
 "cells": [
  {
   "cell_type": "code",
   "execution_count": 14,
   "id": "346ce07f",
   "metadata": {},
   "outputs": [],
   "source": [
    "# pip install -U langchain-tavily"
   ]
  },
  {
   "cell_type": "code",
   "execution_count": 15,
   "id": "90b5e6f1",
   "metadata": {},
   "outputs": [],
   "source": [
    "from langchain_tavily import TavilySearch\n",
    "tool = TavilySearch(max_results=3)\n",
    "tools=[tool]"
   ]
  },
  {
   "cell_type": "code",
   "execution_count": 16,
   "id": "c9d85720",
   "metadata": {},
   "outputs": [
    {
     "data": {
      "text/plain": [
       "{'query': 'what is sagara global ai company',\n",
       " 'follow_up_questions': None,\n",
       " 'answer': None,\n",
       " 'images': [],\n",
       " 'results': [{'title': 'Sagara Global',\n",
       "   'url': 'https://sagaraglobal.com/',\n",
       "   'content': 'Sagara Global Services AI Development Services Application Development Services Products HM Textiles SAGARA GLOBAL With AI Agents That Learn, Adapt & Deliver Smarter Workflows Start Here — With AI Agents That Learn, Adapt & Deliver Our Services Know More → End-to-end web and mobile application development services to bring your digital ideas to life. Know More → OUR PRODUCTS Explore our range of high-quality products designed to meet your needs. From modern solutions to traditional craftsmanship, we have something for everyone. Know more Click here to know more HM Textiles A pan-India textile brand offering a variety of quality fabrics and sarees for wholesale buyers. Know more Click here to know more Services Products © 2025 SAGARA GLOBAL | All rights reserved.',\n",
       "   'score': 0.7293082,\n",
       "   'raw_content': None},\n",
       "  {'title': 'Sagara Technology Reviews: What Is It Like to Work At ... - Glassdoor',\n",
       "   'url': 'https://www.glassdoor.com/Reviews/Sagara-Technology-Reviews-E5340354.htm',\n",
       "   'content': 'Sagara Technology has an employee rating of 4.6 out of 5 stars, based on 34 company reviews on Glassdoor which indicates that most employees have an excellent working experience there. The Sagara Technology employee rating is in line with the average (within 1 standard deviation) for employers within the Information Technology industry (3.9 stars).',\n",
       "   'score': 0.42648935,\n",
       "   'raw_content': None},\n",
       "  {'title': 'Forbes 2025 AI 50 List - Top Artificial Intelligence Companies Ranked',\n",
       "   'url': 'https://www.forbes.com/lists/ai50/',\n",
       "   'content': \"*   [World's Billionaires](https://www.forbes.com/billionaires/) *   [Korea's Richest](https://www.forbes.com/korea-billionaires/list/) *   [Thailand's Richest](https://www.forbes.com/thailand-billionaires/list/) *   [Japan's Richest](https://www.forbes.com/japan-billionaires/list/) *   [AI](https://www.forbes.com/ai/) *   [Gaming](https://www.forbes.com/gaming/) *   [Innovation Rules](https://www.forbes.com/innovation-rules/) *   [ForbesBLK](https://www.forbes.com/blk-leadership/) *   [Under 30](https://www.forbes.com/under30/) *   [Over 50](https://www.forbes.com/over-50/) *   [Markets](https://www.forbes.com/markets/) *   [Home](https://www.forbes.com/digital-assets/) *   [News](https://www.forbes.com/digital-assets/news/) *   [Entrepreneurs](https://www.forbes.com/entrepreneurs/) *   [Travel](https://www.forbes.com/travel/) *   [Home](https://www.forbes.com/vetted/home/) *   [Bathroom](https://www.forbes.com/vetted/home/bathroom/) *   [Decor](https://www.forbes.com/vetted/home/decor/) *   [Furniture](https://www.forbes.com/vetted/home/furniture/) *   [Hobbies](https://www.forbes.com/vetted/home/hobbies/) *   [Outdoor](https://www.forbes.com/vetted/home/outdoor/) *   [Pets](https://www.forbes.com/vetted/home/pets/) *   [Tools](https://www.forbes.com/vetted/home/tools/) *   [Fashion](https://www.forbes.com/vetted/fashion/) *   [Gear](https://www.forbes.com/vetted/gear/) *   [Bikes](https://www.forbes.com/vetted/gear/bikes/) *   [Fitness](https://www.forbes.com/vetted/gear/fitness/) *   [Running](https://www.forbes.com/vetted/gear/running/) *   [Personal Products](https://www.forbes.com/vetted/beauty-grooming/personal-products/) *   [Travel](https://www.forbes.com/vetted/travel/) *   [Travel Products](https://www.forbes.com/vetted/travel/travel-products/) *   [Gifts](https://www.forbes.com/vetted/gifts/) *   [Deals](https://www.forbes.com/vetted/deals/) *   [Fashion](https://www.forbes.com/vetted/deals/fashion/) *   [Gear](https://www.forbes.com/vetted/deals/gear/) *   [Home](https://www.forbes.com/vetted/deals/home/) *   [Banking](https://www.forbes.com/advisor/banking/) *   [Business Services](https://www.forbes.com/advisor/business/) *   [Best LLC Services](https://www.forbes.com/advisor/business/best-llc-service/) *   [Best HRIS Systems](https://www.forbes.com/advisor/business/software/hris-systems/) *   [What Is VoIP?](https://www.forbes.com/advisor/business/software/what-voip/) *   [Best Cloud Phone System](https://www.forbes.com/advisor/business/cloud-phone-system/) *   [Best VPN](https://www.forbes.com/advisor/business/software/best-vpn/) *   [Education](https://www.forbes.com/advisor/education/) *   [Health Insurance](https://www.forbes.com/advisor/health-insurance/best-health-insurance-companies/) *   [Forbes Video Series: AI 50](https://www.forbes.com/sites/forbesvideo/2025/04/10/ai-50/) *   [AI 50 List](https://www.forbes.com/lists/ai50/)\",\n",
       "   'score': 0.10547766,\n",
       "   'raw_content': None}],\n",
       " 'response_time': 0.79}"
      ]
     },
     "execution_count": 16,
     "metadata": {},
     "output_type": "execute_result"
    }
   ],
   "source": [
    "tool.invoke(\"what is sagara global ai company\")"
   ]
  },
  {
   "cell_type": "code",
   "execution_count": 17,
   "id": "9662b8d8",
   "metadata": {},
   "outputs": [],
   "source": [
    "import os\n",
    "from langchain.chat_models import init_chat_model\n",
    "\n",
    "llm = init_chat_model(\"google_genai:gemini-2.0-flash\")"
   ]
  },
  {
   "cell_type": "code",
   "execution_count": 18,
   "id": "dfad5d9c",
   "metadata": {},
   "outputs": [],
   "source": [
    "from typing import Annotated\n",
    "\n",
    "from typing_extensions import TypedDict\n",
    "\n",
    "from langgraph.graph import StateGraph, START, END\n",
    "from langgraph.graph.message import add_messages"
   ]
  },
  {
   "cell_type": "code",
   "execution_count": 19,
   "id": "364f1c06",
   "metadata": {},
   "outputs": [],
   "source": [
    "class State(TypedDict):\n",
    "    messages:Annotated[list,add_messages]\n",
    "graph_builder = StateGraph(State)"
   ]
  },
  {
   "cell_type": "code",
   "execution_count": 20,
   "id": "bc5d6996",
   "metadata": {},
   "outputs": [],
   "source": [
    "llm_tools=llm.bind_tools(tools)\n",
    "def chatbot(state:State):\n",
    "    result=llm_tools.invoke(state['messages'])\n",
    "    return {'messages':result}"
   ]
  },
  {
   "cell_type": "code",
   "execution_count": 21,
   "id": "df2a9417",
   "metadata": {},
   "outputs": [
    {
     "data": {
      "text/plain": [
       "<langgraph.graph.state.StateGraph at 0x7577d625b410>"
      ]
     },
     "execution_count": 21,
     "metadata": {},
     "output_type": "execute_result"
    }
   ],
   "source": [
    "graph_builder.add_node(\"chatbot\", chatbot)\n"
   ]
  },
  {
   "cell_type": "code",
   "execution_count": 22,
   "id": "73a981a0",
   "metadata": {},
   "outputs": [
    {
     "data": {
      "text/plain": [
       "<langgraph.graph.state.StateGraph at 0x7577d625b410>"
      ]
     },
     "execution_count": 22,
     "metadata": {},
     "output_type": "execute_result"
    }
   ],
   "source": [
    "import json\n",
    "\n",
    "from langchain_core.messages import ToolMessage\n",
    "\n",
    "\n",
    "class BasicToolNode:\n",
    "    \"\"\"A node that runs the tools requested in the last AIMessage.\"\"\"\n",
    "\n",
    "    def __init__(self, tools: list) -> None:\n",
    "        self.tools_by_name = {tool.name: tool for tool in tools}\n",
    "\n",
    "    def __call__(self, inputs: dict):\n",
    "        if messages := inputs.get(\"messages\", []):\n",
    "            message = messages[-1]\n",
    "        else:\n",
    "            raise ValueError(\"No message found in input\")\n",
    "        outputs = []\n",
    "        for tool_call in message.tool_calls:\n",
    "            tool_result = self.tools_by_name[tool_call[\"name\"]].invoke(\n",
    "                tool_call[\"args\"]\n",
    "            )\n",
    "            outputs.append(\n",
    "                ToolMessage(\n",
    "                    content=json.dumps(tool_result),\n",
    "                    name=tool_call[\"name\"],\n",
    "                    tool_call_id=tool_call[\"id\"],\n",
    "                )\n",
    "            )\n",
    "        return {\"messages\": outputs}\n",
    "\n",
    "\n",
    "tool_node = BasicToolNode(tools=[tool])\n",
    "graph_builder.add_node(\"tools\", tool_node)"
   ]
  },
  {
   "cell_type": "code",
   "execution_count": 23,
   "id": "859ba304",
   "metadata": {},
   "outputs": [],
   "source": [
    "def route_tools(\n",
    "    state: State,\n",
    "):\n",
    "    \"\"\"\n",
    "    Use in the conditional_edge to route to the ToolNode if the last message\n",
    "    has tool calls. Otherwise, route to the end.\n",
    "    \"\"\"\n",
    "    if isinstance(state, list):\n",
    "        ai_message = state[-1]\n",
    "    elif messages := state.get(\"messages\", []):\n",
    "        ai_message = messages[-1]\n",
    "    else:\n",
    "        raise ValueError(f\"No messages found in input state to tool_edge: {state}\")\n",
    "    if hasattr(ai_message, \"tool_calls\") and len(ai_message.tool_calls) > 0:\n",
    "        return \"tools\"\n",
    "    return END\n",
    "\n",
    "\n",
    "# The `tools_condition` function returns \"tools\" if the chatbot asks to use a tool, and \"END\" if\n",
    "# it is fine directly responding. This conditional routing defines the main agent loop.\n",
    "graph_builder.add_conditional_edges(\n",
    "    \"chatbot\",\n",
    "    route_tools,\n",
    "    # The following dictionary lets you tell the graph to interpret the condition's outputs as a specific node\n",
    "    # It defaults to the identity function, but if you\n",
    "    # want to use a node named something else apart from \"tools\",\n",
    "    # You can update the value of the dictionary to something else\n",
    "    # e.g., \"tools\": \"my_tools\"\n",
    "    {\"tools\": \"tools\", END: END},\n",
    ")\n",
    "# Any time a tool is called, we return to the chatbot to decide the next step\n",
    "graph_builder.add_edge(\"tools\", \"chatbot\")\n",
    "graph_builder.add_edge(START, \"chatbot\")\n",
    "graph = graph_builder.compile()"
   ]
  },
  {
   "cell_type": "code",
   "execution_count": 24,
   "id": "8320d653",
   "metadata": {},
   "outputs": [
    {
     "data": {
      "image/png": "[encoded data removed]",
      "text/plain": [
       "<IPython.core.display.Image object>"
      ]
     },
     "metadata": {},
     "output_type": "display_data"
    }
   ],
   "source": [
    "from IPython.display import Image, display\n",
    "\n",
    "try:\n",
    "    display(Image(graph.get_graph().draw_mermaid_png()))\n",
    "except Exception:\n",
    "    # This requires some extra dependencies and is optional\n",
    "    pass"
   ]
  },
  {
   "cell_type": "code",
   "execution_count": null,
   "id": "01a22786",
   "metadata": {},
   "outputs": [
    {
     "name": "stdout",
     "output_type": "stream",
     "text": [
      "Assistant: Hi there! How can I help you today?\n",
      "Assistant: Hi there! How can I help you today?\n",
      "Assistant: What is your question?\n",
      "Assistant: I am Gemini, a large language model built by Google.\n"
     ]
    },
    {
     "name": "stderr",
     "output_type": "stream",
     "text": [
      "/workspaces/Langgraph/.venv/lib/python3.12/site-packages/langchain_google_genai/chat_models.py:1501: UserWarning: HumanMessage with empty content was removed to prevent API error\n",
      "  warnings.warn(\n"
     ]
    },
    {
     "name": "stdout",
     "output_type": "stream",
     "text": [
      "User: What do you know about LangGraph?\n",
      "Assistant: \n"
     ]
    }
   ],
   "source": [
    "def stream_graph_updates(user_input: str):\n",
    "    for event in graph.stream({\"messages\": [{\"role\": \"user\", \"content\": user_input}]}):\n",
    "        for value in event.values():\n",
    "            print(\"Assistant:\", value['messages'].content)\n",
    "\n",
    "while True:\n",
    "    try:\n",
    "        user_input = input(\"User: \")\n",
    "        if user_input.lower() in [\"quit\", \"exit\", \"q\"]:\n",
    "            print(\"Goodbye!\")\n",
    "            break\n",
    "\n",
    "        stream_graph_updates(user_input)\n",
    "    except:\n",
    "        # fallback if input() is not available\n",
    "        user_input = \"What do you know about LangGraph?\"\n",
    "        print(\"User: \" + user_input)\n",
    "        stream_graph_updates(user_input)\n",
    "        break"
   ]
  },
  {
   "cell_type": "code",
   "execution_count": null,
   "id": "6cf5be54",
   "metadata": {},
   "outputs": [],
   "source": []
  }
 ],
 "metadata": {
  "kernelspec": {
   "display_name": ".venv",
   "language": "python",
   "name": "python3"
  },
  "language_info": {
   "codemirror_mode": {
    "name": "ipython",
    "version": 3
   },
   "file_extension": ".py",
   "mimetype": "text/x-python",
   "name": "python",
   "nbconvert_exporter": "python",
   "pygments_lexer": "ipython3",
   "version": "3.12.1"
  }
 },
 "nbformat": 4,
 "nbformat_minor": 5
}
