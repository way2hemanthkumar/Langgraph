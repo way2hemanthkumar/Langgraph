{
 "cells": [
  {
   "cell_type": "code",
   "execution_count": 2,
   "id": "0acd8ad0",
   "metadata": {},
   "outputs": [],
   "source": [
    "from typing import Annotated\n",
    "\n",
    "from typing_extensions import TypedDict\n",
    "\n",
    "from langgraph.graph import StateGraph, START\n",
    "from langgraph.graph.message import add_messages\n",
    "\n",
    "\n",
    "class State(TypedDict):\n",
    "    # Messages have the type \"list\". The `add_messages` function\n",
    "    # in the annotation defines how this state key should be updated\n",
    "    # (in this case, it appends messages to the list, rather than overwriting them)\n",
    "    messages: Annotated[list, add_messages]\n",
    "\n",
    "\n",
    "graph_builder = StateGraph(State)"
   ]
  },
  {
   "cell_type": "code",
   "execution_count": 3,
   "id": "7ae366fd",
   "metadata": {},
   "outputs": [],
   "source": [
    "import os\n",
    "from langchain.chat_models import init_chat_model\n",
    "\n",
    "# os.environ[\"GOOGLE_API_KEY\"] = \"...\" # add key if not available in environment\n",
    "\n",
    "llm = init_chat_model(\"google_genai:gemini-2.0-flash\")"
   ]
  },
  {
   "cell_type": "code",
   "execution_count": 4,
   "id": "2f626c02",
   "metadata": {},
   "outputs": [
    {
     "data": {
      "text/plain": [
       "<langgraph.graph.state.StateGraph at 0x7f6e800df1d0>"
      ]
     },
     "execution_count": 4,
     "metadata": {},
     "output_type": "execute_result"
    }
   ],
   "source": [
    "def chatbot(state: State):\n",
    "    print(state[\"messages\"])\n",
    "    return {\"messages\": [llm.invoke(state[\"messages\"])]}\n",
    "\n",
    "\n",
    "# The first argument is the unique node name\n",
    "# The second argument is the function or object that will be called whenever\n",
    "# the node is used.\n",
    "graph_builder.add_node(\"chatbot\", chatbot)"
   ]
  },
  {
   "cell_type": "code",
   "execution_count": 5,
   "id": "f08575a7",
   "metadata": {},
   "outputs": [
    {
     "data": {
      "text/plain": [
       "<langgraph.graph.state.StateGraph at 0x7f6e800df1d0>"
      ]
     },
     "execution_count": 5,
     "metadata": {},
     "output_type": "execute_result"
    }
   ],
   "source": [
    "graph_builder.add_edge(START, \"chatbot\")\n"
   ]
  },
  {
   "cell_type": "code",
   "execution_count": 6,
   "id": "8cb20664",
   "metadata": {},
   "outputs": [],
   "source": [
    "graph = graph_builder.compile()\n"
   ]
  },
  {
   "cell_type": "code",
   "execution_count": 7,
   "id": "3eb91e7a",
   "metadata": {},
   "outputs": [
    {
     "data": {
      "image/png": "[encoded data removed]",
      "text/plain": [
       "<IPython.core.display.Image object>"
      ]
     },
     "metadata": {},
     "output_type": "display_data"
    }
   ],
   "source": [
    "from IPython.display import Image, display\n",
    "\n",
    "try:\n",
    "    display(Image(graph.get_graph().draw_mermaid_png()))\n",
    "except Exception:\n",
    "    # This requires some extra dependencies and is optional\n",
    "    pass"
   ]
  },
  {
   "cell_type": "code",
   "execution_count": 8,
   "id": "eb3bde81",
   "metadata": {},
   "outputs": [
    {
     "name": "stdout",
     "output_type": "stream",
     "text": [
      "[HumanMessage(content='what is chocolate', additional_kwargs={}, response_metadata={}, id='a7ef8c09-8726-4892-ad36-946ae3cd9868')]\n",
      "Assistant: Chocolate is a food product made from roasted and ground cacao seeds, that is available as a liquid, solid or paste, on its own or as a flavoring agent in other foods. Here's a breakdown of what it is and how it's made:\n",
      "\n",
      "**Key Components and Ingredients:**\n",
      "\n",
      "*   **Cacao Beans:** The foundation of chocolate. These beans grow in pods on the cacao tree (Theobroma cacao).\n",
      "*   **Cocoa Solids:** This refers to the non-fat components of the cacao bean, including cocoa mass, cocoa powder, and cocoa nibs. They contribute the characteristic chocolate flavor and color.\n",
      "*   **Cocoa Butter:** The natural fat extracted from cacao beans. It gives chocolate its smooth texture and contributes to its melt-in-your-mouth quality.\n",
      "*   **Sugar:** Added for sweetness and to balance the bitterness of the cocoa solids.\n",
      "*   **Other Ingredients:** Depending on the type of chocolate, other ingredients may include:\n",
      "    *   **Milk Solids:** (Milk powder, condensed milk) - Used in milk chocolate.\n",
      "    *   **Vanilla:** Used to enhance the flavor.\n",
      "    *   **Lecithin:** An emulsifier that helps to bind the ingredients together and create a smooth texture.\n",
      "    *   **Nuts, Fruits, Flavors:** Added for variety and taste.\n",
      "\n",
      "**The Chocolate-Making Process:**\n",
      "\n",
      "1.  **Harvesting:** Cacao pods are harvested from the cacao tree.\n",
      "2.  **Fermentation:** The beans are removed from the pods and fermented. This process develops the flavor precursors of chocolate.\n",
      "3.  **Drying:** The fermented beans are dried in the sun.\n",
      "4.  **Roasting:** The dried beans are roasted to further develop the flavor.\n",
      "5.  **Cracking and Winnowing:** The roasted beans are cracked open, and the outer shells (husks) are removed, leaving the cacao nibs.\n",
      "6.  **Grinding:** The nibs are ground into a liquid called chocolate liquor (or cocoa mass). This contains both cocoa solids and cocoa butter.\n",
      "7.  **Pressing (for Cocoa Butter and Cocoa Powder):** If cocoa butter and cocoa powder are desired, the chocolate liquor is pressed. This separates the cocoa butter from the cocoa solids. The remaining cocoa solids are then ground into cocoa powder.\n",
      "8.  **Mixing and Conching:** For chocolate bars, the chocolate liquor is mixed with sugar, cocoa butter (if needed), and other ingredients. The mixture is then conched – a process of prolonged mixing, kneading, and aerating that refines the texture and flavor.\n",
      "9.  **Tempering:** The chocolate is tempered, a process of carefully heating and cooling the chocolate to stabilize the cocoa butter crystals. This gives the chocolate a smooth, glossy appearance, a crisp snap, and prevents it from blooming (developing a whitish coating).\n",
      "10. **Molding and Cooling:** The tempered chocolate is poured into molds, cooled, and then removed from the molds.\n",
      "11. **Wrapping and Distribution:** The chocolate is wrapped and distributed to consumers.\n",
      "\n",
      "**Types of Chocolate:**\n",
      "\n",
      "*   **Dark Chocolate:** Contains cocoa solids, cocoa butter, sugar, and sometimes vanilla. It typically has a higher percentage of cocoa solids than milk chocolate.\n",
      "*   **Milk Chocolate:** Contains cocoa solids, cocoa butter, sugar, and milk solids.\n",
      "*   **White Chocolate:** Contains cocoa butter, sugar, and milk solids, but no cocoa solids.\n",
      "*   **Unsweetened Chocolate (Baking Chocolate):** Pure chocolate liquor with no added sugar.\n",
      "*   **Cocoa Powder:** Cocoa solids that have been ground into a powder.\n",
      "*   **Ruby Chocolate:** A newer type of chocolate with a naturally pink hue and a fruity, slightly sour taste.\n",
      "\n",
      "**In summary, chocolate is a complex and delicious food product derived from cacao beans, with a rich history and a wide range of varieties.**\n",
      "Goodbye!\n"
     ]
    }
   ],
   "source": [
    "def stream_graph_updates(user_input: str):\n",
    "    \n",
    "    for event in graph.stream({\"messages\": [{\"role\": \"user\", \"content\": user_input}]}):\n",
    "        for value in event.values():\n",
    "            print(\"Assistant:\", value[\"messages\"][-1].content)\n",
    "\n",
    "\n",
    "while True:\n",
    "    try:\n",
    "        user_input = input(\"User: \")\n",
    "        if user_input.lower() in [\"quit\", \"exit\", \"q\"]:\n",
    "            print(\"Goodbye!\")\n",
    "            break\n",
    "        stream_graph_updates(user_input)\n",
    "    except:\n",
    "        # fallback if input() is not available\n",
    "        user_input = \"What do you know about LangGraph?\"\n",
    "        print(\"User: \" + user_input)\n",
    "        stream_graph_updates(user_input)\n",
    "        break"
   ]
  },
  {
   "cell_type": "code",
   "execution_count": null,
   "id": "e4c0889a",
   "metadata": {},
   "outputs": [
    {
     "data": {
      "text/plain": [
       "__main__.State['add_messages']"
      ]
     },
     "execution_count": 20,
     "metadata": {},
     "output_type": "execute_result"
    }
   ],
   "source": [
    "graph_builder."
   ]
  },
  {
   "cell_type": "code",
   "execution_count": null,
   "id": "da06c760",
   "metadata": {},
   "outputs": [],
   "source": []
  }
 ],
 "metadata": {
  "kernelspec": {
   "display_name": ".venv",
   "language": "python",
   "name": "python3"
  },
  "language_info": {
   "codemirror_mode": {
    "name": "ipython",
    "version": 3
   },
   "file_extension": ".py",
   "mimetype": "text/x-python",
   "name": "python",
   "nbconvert_exporter": "python",
   "pygments_lexer": "ipython3",
   "version": "3.12.1"
  }
 },
 "nbformat": 4,
 "nbformat_minor": 5
}
